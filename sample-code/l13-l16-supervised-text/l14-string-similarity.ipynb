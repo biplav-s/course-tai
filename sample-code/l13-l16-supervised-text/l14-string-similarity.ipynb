{
 "cells": [
  {
   "cell_type": "code",
   "execution_count": 1,
   "metadata": {},
   "outputs": [],
   "source": [
    "# Based on https://pypi.org/project/textdistance/"
   ]
  },
  {
   "cell_type": "code",
   "execution_count": 4,
   "metadata": {},
   "outputs": [],
   "source": [
    "# Install if needed\n",
    "# ! pip install textdistance"
   ]
  },
  {
   "cell_type": "code",
   "execution_count": 5,
   "metadata": {},
   "outputs": [],
   "source": [
    "# Import\n",
    "import textdistance"
   ]
  },
  {
   "cell_type": "code",
   "execution_count": 6,
   "metadata": {},
   "outputs": [],
   "source": [
    "# Strings to compare\n",
    "str1 = \"Hello World!\"\n",
    "str2 = \"Hell0 Wor1d|, Here I come!\""
   ]
  },
  {
   "cell_type": "code",
   "execution_count": 7,
   "metadata": {},
   "outputs": [
    {
     "name": "stdout",
     "output_type": "stream",
     "text": [
      "Distance 'Hello World!' -> 'Hell0 Wor1d|, Here I come!' : score: 17\n",
      "Distance 'Hell0 Wor1d|, Here I come!' -> 'Hello World!' : score: 17\n"
     ]
    }
   ],
   "source": [
    "# Hamming similarity\n",
    "\n",
    "hamming = textdistance.Hamming()\n",
    "print (f\"Distance '{str1}' -> '{str2}' : score: {str(hamming(str1, str2))}\")\n",
    "print (f\"Distance '{str2}' -> '{str1}' : score: {str(hamming(str2, str1))}\")"
   ]
  },
  {
   "cell_type": "code",
   "execution_count": 8,
   "metadata": {},
   "outputs": [
    {
     "name": "stdout",
     "output_type": "stream",
     "text": [
      "Distance 'Hello World!' -> 'Hell0 Wor1d|, Here I come!' : score: 0.08333333333333333\n",
      "Distance 'Hell0 Wor1d|, Here I come!' -> 'Hello World!' : score: 0.028106508875739643\n"
     ]
    }
   ],
   "source": [
    "# MongeElkan similarity\n",
    "\n",
    "mk = textdistance.MongeElkan()\n",
    "print (f\"Distance '{str1}' -> '{str2}' : score: {str(mk(str1, str2))}\")\n",
    "print (f\"Distance '{str2}' -> '{str1}' : score: {str(mk(str2, str1))}\")"
   ]
  },
  {
   "cell_type": "code",
   "execution_count": 9,
   "metadata": {},
   "outputs": [
    {
     "name": "stdout",
     "output_type": "stream",
     "text": [
      "Distance 'Hello World!' -> 'Hell0 Wor1d|, Here I come!' : score: 0.4074074074074074\n",
      "Distance 'Hell0 Wor1d|, Here I come!' -> 'Hello World!' : score: 0.4074074074074074\n"
     ]
    }
   ],
   "source": [
    "# Jaccard similarity\n",
    "\n",
    "j = textdistance.Jaccard()\n",
    "print (f\"Distance '{str1}' -> '{str2}' : score: {str(j(str1, str2))}\")\n",
    "print (f\"Distance '{str2}' -> '{str1}' : score: {str(j(str2, str1))}\")"
   ]
  },
  {
   "cell_type": "code",
   "execution_count": 10,
   "metadata": {},
   "outputs": [
    {
     "name": "stdout",
     "output_type": "stream",
     "text": [
      "Distance 'Hello World!' -> 'Hell0 Wor1d|, Here I come!' : score: 0.6227523687795276\n",
      "Distance 'Hell0 Wor1d|, Here I come!' -> 'Hello World!' : score: 0.6227523687795276\n"
     ]
    }
   ],
   "source": [
    "# Cosine similarity\n",
    "\n",
    "c = textdistance.Cosine()\n",
    "print (f\"Distance '{str1}' -> '{str2}' : score: {str(c(str1, str2))}\")\n",
    "print (f\"Distance '{str2}' -> '{str1}' : score: {str(c(str2, str1))}\")"
   ]
  },
  {
   "cell_type": "code",
   "execution_count": 11,
   "metadata": {},
   "outputs": [
    {
     "name": "stdout",
     "output_type": "stream",
     "text": [
      "Distance 'Hello World!' -> 'Hell0 Wor1d|, Here I come!' : score: 16\n",
      "Distance 'Hell0 Wor1d|, Here I come!' -> 'Hello World!' : score: 16\n"
     ]
    }
   ],
   "source": [
    "# Levenshtein similarity\n",
    "\n",
    "l = textdistance.Levenshtein()\n",
    "print (f\"Distance '{str1}' -> '{str2}' : score: {str(l(str1, str2))}\")\n",
    "print (f\"Distance '{str2}' -> '{str1}' : score: {str(l(str2, str1))}\")"
   ]
  },
  {
   "cell_type": "code",
   "execution_count": null,
   "metadata": {},
   "outputs": [],
   "source": []
  },
  {
   "cell_type": "code",
   "execution_count": null,
   "metadata": {},
   "outputs": [],
   "source": []
  },
  {
   "cell_type": "code",
   "execution_count": null,
   "metadata": {},
   "outputs": [],
   "source": []
  }
 ],
 "metadata": {
  "kernelspec": {
   "display_name": "Python 3",
   "language": "python",
   "name": "python3"
  },
  "language_info": {
   "codemirror_mode": {
    "name": "ipython",
    "version": 3
   },
   "file_extension": ".py",
   "mimetype": "text/x-python",
   "name": "python",
   "nbconvert_exporter": "python",
   "pygments_lexer": "ipython3",
   "version": "3.7.6"
  }
 },
 "nbformat": 4,
 "nbformat_minor": 4
}
