{
 "cells": [
  {
   "cell_type": "markdown",
   "metadata": {},
   "source": [
    "# Contextual Word Representation"
   ]
  },
  {
   "cell_type": "code",
   "execution_count": 1,
   "metadata": {},
   "outputs": [],
   "source": [
    "# Based on sci-kit documentation\n",
    "from sklearn.feature_extraction.text import CountVectorizer"
   ]
  },
  {
   "cell_type": "code",
   "execution_count": 2,
   "metadata": {},
   "outputs": [
    {
     "name": "stdout",
     "output_type": "stream",
     "text": [
      "\n",
      "National Secondary Drinking Water Regulations (NSDWRs)\n",
      "NSDWRs (or secondary standards) are non-enforceable guidelines regulating contaminants that may cause cosmetic effects (such as skin or tooth discoloration) or aesthetic effects (such as taste, odor, or color) in drinking water. EPA recommends secondary standards to water systems but does not require systems to comply with the standard. However, states may choose to adopt them as enforceable standards.\n",
      "\n"
     ]
    }
   ],
   "source": [
    "# String (data) to experiment with - from water - \n",
    "# -- https://www.epa.gov/sdwa/drinking-water-regulations-and-contaminants\n",
    "data = \"\"\"\n",
    "National Secondary Drinking Water Regulations (NSDWRs)\n",
    "NSDWRs (or secondary standards) are non-enforceable guidelines regulating contaminants that may cause cosmetic effects (such as skin or tooth discoloration) or aesthetic effects (such as taste, odor, or color) in drinking water. EPA recommends secondary standards to water systems but does not require systems to comply with the standard. However, states may choose to adopt them as enforceable standards.\n",
    "\"\"\"\n",
    "print (data)"
   ]
  },
  {
   "cell_type": "code",
   "execution_count": 3,
   "metadata": {},
   "outputs": [],
   "source": [
    "# Import package\n",
    "import re"
   ]
  },
  {
   "cell_type": "code",
   "execution_count": 4,
   "metadata": {},
   "outputs": [
    {
     "name": "stdout",
     "output_type": "stream",
     "text": [
      "['', 'National Secondary Drinking Water Regulations (NSDWRs)', 'NSDWRs (or secondary standards) are non-enforceable guidelines regulating contaminants that may cause cosmetic effects (such as skin or tooth discoloration) or aesthetic effects (such as taste, odor, or color) in drinking water', ' EPA recommends secondary standards to water systems but does not require systems to comply with the standard', ' However, states may choose to adopt them as enforceable standards', '', '']\n"
     ]
    }
   ],
   "source": [
    "# We get it by getting words from split; a hack\n",
    "pattern = \"[\\n.]\"\n",
    "corpus = re.split(pattern, data)\n",
    "print (corpus)"
   ]
  },
  {
   "cell_type": "code",
   "execution_count": 5,
   "metadata": {},
   "outputs": [
    {
     "name": "stdout",
     "output_type": "stream",
     "text": [
      "['National Secondary Drinking Water Regulations (NSDWRs)', 'NSDWRs (or secondary standards) are non-enforceable guidelines regulating contaminants that may cause cosmetic effects (such as skin or tooth discoloration) or aesthetic effects (such as taste, odor, or color) in drinking water', ' EPA recommends secondary standards to water systems but does not require systems to comply with the standard', ' However, states may choose to adopt them as enforceable standards']\n"
     ]
    }
   ],
   "source": [
    "# Removing empty strings\n",
    "corpus = [i for i in corpus if i]\n",
    "print (corpus)"
   ]
  },
  {
   "cell_type": "code",
   "execution_count": 6,
   "metadata": {},
   "outputs": [
    {
     "name": "stdout",
     "output_type": "stream",
     "text": [
      "['adopt', 'aesthetic', 'are', 'as', 'but', 'cause', 'choose', 'color', 'comply', 'contaminants', 'cosmetic', 'discoloration', 'does', 'drinking', 'effects', 'enforceable', 'epa', 'guidelines', 'however', 'in', 'may', 'national', 'non', 'not', 'nsdwrs', 'odor', 'or', 'recommends', 'regulating', 'regulations', 'require', 'secondary', 'skin', 'standard', 'standards', 'states', 'such', 'systems', 'taste', 'that', 'the', 'them', 'to', 'tooth', 'water', 'with']\n",
      "[[0 0 0 0 0 0 0 0 0 0 0 0 0 1 0 0 0 0 0 0 0 1 0 0 1 0 0 0 0 1 0 1 0 0 0 0\n",
      "  0 0 0 0 0 0 0 0 1 0]\n",
      " [0 1 1 2 0 1 0 1 0 1 1 1 0 1 2 1 0 1 0 1 1 0 1 0 1 1 4 0 1 0 0 1 1 0 1 0\n",
      "  2 0 1 1 0 0 0 1 1 0]\n",
      " [0 0 0 0 1 0 0 0 1 0 0 0 1 0 0 0 1 0 0 0 0 0 0 1 0 0 0 1 0 0 1 1 0 1 1 0\n",
      "  0 2 0 0 1 0 2 0 1 1]\n",
      " [1 0 0 1 0 0 1 0 0 0 0 0 0 0 0 1 0 0 1 0 1 0 0 0 0 0 0 0 0 0 0 0 0 0 1 1\n",
      "  0 0 0 0 0 1 1 0 0 0]]\n"
     ]
    }
   ],
   "source": [
    "# Single word representation\n",
    "vectorizer = CountVectorizer()\n",
    "X = vectorizer.fit_transform(corpus)\n",
    "print(vectorizer.get_feature_names())\n",
    "print(X.toarray())\n",
    "\n",
    "# Notice document has one dimension although 3 occurences"
   ]
  },
  {
   "cell_type": "code",
   "execution_count": null,
   "metadata": {},
   "outputs": [],
   "source": [
    "#N-gram representation (2- and 3-; word based)\n",
    "\n",
    "vectorizer2 = CountVectorizer(analyzer='word', ngram_range=(2, 3))\n",
    "X2 = vectorizer2.fit_transform(corpus)\n",
    "\n",
    "print(vectorizer2.get_feature_names())\n",
    "print(X2.toarray())"
   ]
  },
  {
   "cell_type": "markdown",
   "metadata": {},
   "source": [
    "# Using TF-IDF"
   ]
  },
  {
   "cell_type": "code",
   "execution_count": null,
   "metadata": {},
   "outputs": [],
   "source": [
    "# https://scikit-learn.org/stable/modules/generated/sklearn.feature_extraction.text.TfidfVectorizer.html\n",
    "from sklearn.feature_extraction.text import TfidfVectorizer\n"
   ]
  },
  {
   "cell_type": "code",
   "execution_count": null,
   "metadata": {},
   "outputs": [],
   "source": [
    "# TFIDR Vectorizer gives value based on Inverse Document Frequency, i.e., relative\n",
    "# occurence of words in the documents. Hence, context is by word frequency.\n",
    "\n",
    "vectorizer = TfidfVectorizer()\n",
    "X = vectorizer.fit_transform(corpus)\n",
    "\n",
    "print(vectorizer.get_feature_names())\n",
    "print(X.toarray())"
   ]
  },
  {
   "cell_type": "code",
   "execution_count": null,
   "metadata": {},
   "outputs": [],
   "source": [
    "# We can use relative word occurence (similarity) to measure similarity between documents\n",
    "from sklearn.metrics.pairwise import cosine_similarity"
   ]
  },
  {
   "cell_type": "code",
   "execution_count": null,
   "metadata": {},
   "outputs": [],
   "source": [
    "for i in range(1, len(corpus)):\n",
    "    print (\"similarity of doc-1 (\" + \n",
    "           corpus[0] + \") with \\n -> doc-\" + \n",
    "           str(i+1) + \" (\" + corpus[i] + \") is = \"  + \n",
    "           str(cosine_similarity (X[0], X[i])))\n"
   ]
  },
  {
   "cell_type": "code",
   "execution_count": null,
   "metadata": {},
   "outputs": [],
   "source": []
  }
 ],
 "metadata": {
  "kernelspec": {
   "display_name": "Python 3",
   "language": "python",
   "name": "python3"
  },
  "language_info": {
   "codemirror_mode": {
    "name": "ipython",
    "version": 3
   },
   "file_extension": ".py",
   "mimetype": "text/x-python",
   "name": "python",
   "nbconvert_exporter": "python",
   "pygments_lexer": "ipython3",
   "version": "3.8.3"
  }
 },
 "nbformat": 4,
 "nbformat_minor": 4
}
