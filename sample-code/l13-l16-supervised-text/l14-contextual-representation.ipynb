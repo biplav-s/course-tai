{
 "cells": [
  {
   "cell_type": "markdown",
   "metadata": {},
   "source": [
    "# Contextual Word Representation"
   ]
  },
  {
   "cell_type": "code",
   "execution_count": 1,
   "metadata": {},
   "outputs": [],
   "source": [
    "# Based on sci-kit documentation\n",
    "from sklearn.feature_extraction.text import CountVectorizer"
   ]
  },
  {
   "cell_type": "code",
   "execution_count": 2,
   "metadata": {},
   "outputs": [
    {
     "name": "stdout",
     "output_type": "stream",
     "text": [
      "\n",
      "National Secondary Drinking Water Regulations (NSDWRs)\n",
      "NSDWRs (or secondary standards) are non-enforceable guidelines regulating contaminants that may cause cosmetic effects (such as skin or tooth discoloration) or aesthetic effects (such as taste, odor, or color) in drinking water. EPA recommends secondary standards to water systems but does not require systems to comply with the standard. However, states may choose to adopt them as enforceable standards.\n",
      "\n"
     ]
    }
   ],
   "source": [
    "# String (data) to experiment with - from water - \n",
    "# -- https://www.epa.gov/sdwa/drinking-water-regulations-and-contaminants\n",
    "data = \"\"\"\n",
    "National Secondary Drinking Water Regulations (NSDWRs)\n",
    "NSDWRs (or secondary standards) are non-enforceable guidelines regulating contaminants that may cause cosmetic effects (such as skin or tooth discoloration) or aesthetic effects (such as taste, odor, or color) in drinking water. EPA recommends secondary standards to water systems but does not require systems to comply with the standard. However, states may choose to adopt them as enforceable standards.\n",
    "\"\"\"\n",
    "print (data)"
   ]
  },
  {
   "cell_type": "code",
   "execution_count": 3,
   "metadata": {},
   "outputs": [],
   "source": [
    "# Import package\n",
    "import re"
   ]
  },
  {
   "cell_type": "code",
   "execution_count": 4,
   "metadata": {},
   "outputs": [
    {
     "name": "stdout",
     "output_type": "stream",
     "text": [
      "['', 'National Secondary Drinking Water Regulations (NSDWRs)', 'NSDWRs (or secondary standards) are non-enforceable guidelines regulating contaminants that may cause cosmetic effects (such as skin or tooth discoloration) or aesthetic effects (such as taste, odor, or color) in drinking water', ' EPA recommends secondary standards to water systems but does not require systems to comply with the standard', ' However, states may choose to adopt them as enforceable standards', '', '']\n"
     ]
    }
   ],
   "source": [
    "# We get it by getting words from split; a hack\n",
    "pattern = \"[\\n.]\"\n",
    "corpus = re.split(pattern, data)\n",
    "print (corpus)"
   ]
  },
  {
   "cell_type": "code",
   "execution_count": 5,
   "metadata": {},
   "outputs": [
    {
     "name": "stdout",
     "output_type": "stream",
     "text": [
      "['National Secondary Drinking Water Regulations (NSDWRs)', 'NSDWRs (or secondary standards) are non-enforceable guidelines regulating contaminants that may cause cosmetic effects (such as skin or tooth discoloration) or aesthetic effects (such as taste, odor, or color) in drinking water', ' EPA recommends secondary standards to water systems but does not require systems to comply with the standard', ' However, states may choose to adopt them as enforceable standards']\n"
     ]
    }
   ],
   "source": [
    "# Removing empty strings\n",
    "corpus = [i for i in corpus if i]\n",
    "print (corpus)"
   ]
  },
  {
   "cell_type": "code",
   "execution_count": 6,
   "metadata": {},
   "outputs": [
    {
     "name": "stdout",
     "output_type": "stream",
     "text": [
      "['adopt', 'aesthetic', 'are', 'as', 'but', 'cause', 'choose', 'color', 'comply', 'contaminants', 'cosmetic', 'discoloration', 'does', 'drinking', 'effects', 'enforceable', 'epa', 'guidelines', 'however', 'in', 'may', 'national', 'non', 'not', 'nsdwrs', 'odor', 'or', 'recommends', 'regulating', 'regulations', 'require', 'secondary', 'skin', 'standard', 'standards', 'states', 'such', 'systems', 'taste', 'that', 'the', 'them', 'to', 'tooth', 'water', 'with']\n",
      "[[0 0 0 0 0 0 0 0 0 0 0 0 0 1 0 0 0 0 0 0 0 1 0 0 1 0 0 0 0 1 0 1 0 0 0 0\n",
      "  0 0 0 0 0 0 0 0 1 0]\n",
      " [0 1 1 2 0 1 0 1 0 1 1 1 0 1 2 1 0 1 0 1 1 0 1 0 1 1 4 0 1 0 0 1 1 0 1 0\n",
      "  2 0 1 1 0 0 0 1 1 0]\n",
      " [0 0 0 0 1 0 0 0 1 0 0 0 1 0 0 0 1 0 0 0 0 0 0 1 0 0 0 1 0 0 1 1 0 1 1 0\n",
      "  0 2 0 0 1 0 2 0 1 1]\n",
      " [1 0 0 1 0 0 1 0 0 0 0 0 0 0 0 1 0 0 1 0 1 0 0 0 0 0 0 0 0 0 0 0 0 0 1 1\n",
      "  0 0 0 0 0 1 1 0 0 0]]\n"
     ]
    }
   ],
   "source": [
    "# Single word representation\n",
    "vectorizer = CountVectorizer()\n",
    "X = vectorizer.fit_transform(corpus)\n",
    "print(vectorizer.get_feature_names())\n",
    "print(X.toarray())\n",
    "\n",
    "# Notice document has one dimension although 3 occurences"
   ]
  },
  {
   "cell_type": "code",
   "execution_count": 7,
   "metadata": {},
   "outputs": [
    {
     "name": "stdout",
     "output_type": "stream",
     "text": [
      "['adopt them', 'adopt them as', 'aesthetic effects', 'aesthetic effects such', 'are non', 'are non enforceable', 'as enforceable', 'as enforceable standards', 'as skin', 'as skin or', 'as taste', 'as taste odor', 'but does', 'but does not', 'cause cosmetic', 'cause cosmetic effects', 'choose to', 'choose to adopt', 'color in', 'color in drinking', 'comply with', 'comply with the', 'contaminants that', 'contaminants that may', 'cosmetic effects', 'cosmetic effects such', 'discoloration or', 'discoloration or aesthetic', 'does not', 'does not require', 'drinking water', 'drinking water regulations', 'effects such', 'effects such as', 'enforceable guidelines', 'enforceable guidelines regulating', 'enforceable standards', 'epa recommends', 'epa recommends secondary', 'guidelines regulating', 'guidelines regulating contaminants', 'however states', 'however states may', 'in drinking', 'in drinking water', 'may cause', 'may cause cosmetic', 'may choose', 'may choose to', 'national secondary', 'national secondary drinking', 'non enforceable', 'non enforceable guidelines', 'not require', 'not require systems', 'nsdwrs or', 'nsdwrs or secondary', 'odor or', 'odor or color', 'or aesthetic', 'or aesthetic effects', 'or color', 'or color in', 'or secondary', 'or secondary standards', 'or tooth', 'or tooth discoloration', 'recommends secondary', 'recommends secondary standards', 'regulating contaminants', 'regulating contaminants that', 'regulations nsdwrs', 'require systems', 'require systems to', 'secondary drinking', 'secondary drinking water', 'secondary standards', 'secondary standards are', 'secondary standards to', 'skin or', 'skin or tooth', 'standards are', 'standards are non', 'standards to', 'standards to water', 'states may', 'states may choose', 'such as', 'such as skin', 'such as taste', 'systems but', 'systems but does', 'systems to', 'systems to comply', 'taste odor', 'taste odor or', 'that may', 'that may cause', 'the standard', 'them as', 'them as enforceable', 'to adopt', 'to adopt them', 'to comply', 'to comply with', 'to water', 'to water systems', 'tooth discoloration', 'tooth discoloration or', 'water regulations', 'water regulations nsdwrs', 'water systems', 'water systems but', 'with the', 'with the standard']\n",
      "[[0 0 0 0 0 0 0 0 0 0 0 0 0 0 0 0 0 0 0 0 0 0 0 0 0 0 0 0 0 0 1 1 0 0 0 0\n",
      "  0 0 0 0 0 0 0 0 0 0 0 0 0 1 1 0 0 0 0 0 0 0 0 0 0 0 0 0 0 0 0 0 0 0 0 1\n",
      "  0 0 1 1 0 0 0 0 0 0 0 0 0 0 0 0 0 0 0 0 0 0 0 0 0 0 0 0 0 0 0 0 0 0 0 0\n",
      "  0 1 1 0 0 0 0]\n",
      " [0 0 1 1 1 1 0 0 1 1 1 1 0 0 1 1 0 0 1 1 0 0 1 1 1 1 1 1 0 0 1 0 2 2 1 1\n",
      "  0 0 0 1 1 0 0 1 1 1 1 0 0 0 0 1 1 0 0 1 1 1 1 1 1 1 1 1 1 1 1 0 0 1 1 0\n",
      "  0 0 0 0 1 1 0 1 1 1 1 0 0 0 0 2 1 1 0 0 0 0 1 1 1 1 0 0 0 0 0 0 0 0 0 1\n",
      "  1 0 0 0 0 0 0]\n",
      " [0 0 0 0 0 0 0 0 0 0 0 0 1 1 0 0 0 0 0 0 1 1 0 0 0 0 0 0 1 1 0 0 0 0 0 0\n",
      "  0 1 1 0 0 0 0 0 0 0 0 0 0 0 0 0 0 1 1 0 0 0 0 0 0 0 0 0 0 0 0 1 1 0 0 0\n",
      "  1 1 0 0 1 0 1 0 0 0 0 1 1 0 0 0 0 0 1 1 1 1 0 0 0 0 1 0 0 0 0 1 1 1 1 0\n",
      "  0 0 0 1 1 1 1]\n",
      " [1 1 0 0 0 0 1 1 0 0 0 0 0 0 0 0 1 1 0 0 0 0 0 0 0 0 0 0 0 0 0 0 0 0 0 0\n",
      "  1 0 0 0 0 1 1 0 0 0 0 1 1 0 0 0 0 0 0 0 0 0 0 0 0 0 0 0 0 0 0 0 0 0 0 0\n",
      "  0 0 0 0 0 0 0 0 0 0 0 0 0 1 1 0 0 0 0 0 0 0 0 0 0 0 0 1 1 1 1 0 0 0 0 0\n",
      "  0 0 0 0 0 0 0]]\n"
     ]
    }
   ],
   "source": [
    "#N-gram representation (2- and 3-; word based)\n",
    "\n",
    "vectorizer2 = CountVectorizer(analyzer='word', ngram_range=(2, 3))\n",
    "X2 = vectorizer2.fit_transform(corpus)\n",
    "\n",
    "print(vectorizer2.get_feature_names())\n",
    "print(X2.toarray())"
   ]
  },
  {
   "cell_type": "markdown",
   "metadata": {},
   "source": [
    "# Using TF-IDF"
   ]
  },
  {
   "cell_type": "code",
   "execution_count": 8,
   "metadata": {},
   "outputs": [],
   "source": [
    "# https://scikit-learn.org/stable/modules/generated/sklearn.feature_extraction.text.TfidfVectorizer.html\n",
    "from sklearn.feature_extraction.text import TfidfVectorizer\n"
   ]
  },
  {
   "cell_type": "code",
   "execution_count": 9,
   "metadata": {},
   "outputs": [
    {
     "name": "stdout",
     "output_type": "stream",
     "text": [
      "['adopt', 'aesthetic', 'are', 'as', 'but', 'cause', 'choose', 'color', 'comply', 'contaminants', 'cosmetic', 'discoloration', 'does', 'drinking', 'effects', 'enforceable', 'epa', 'guidelines', 'however', 'in', 'may', 'national', 'non', 'not', 'nsdwrs', 'odor', 'or', 'recommends', 'regulating', 'regulations', 'require', 'secondary', 'skin', 'standard', 'standards', 'states', 'such', 'systems', 'taste', 'that', 'the', 'them', 'to', 'tooth', 'water', 'with']\n",
      "[[0.         0.         0.         0.         0.         0.\n",
      "  0.         0.         0.         0.         0.         0.\n",
      "  0.         0.39137817 0.         0.         0.         0.\n",
      "  0.         0.         0.         0.49641358 0.         0.\n",
      "  0.39137817 0.         0.         0.         0.         0.49641358\n",
      "  0.         0.31685436 0.         0.         0.         0.\n",
      "  0.         0.         0.         0.         0.         0.\n",
      "  0.         0.         0.31685436 0.        ]\n",
      " [0.         0.14713048 0.14713048 0.23199872 0.         0.14713048\n",
      "  0.         0.14713048 0.         0.14713048 0.14713048 0.14713048\n",
      "  0.         0.11599936 0.29426095 0.11599936 0.         0.14713048\n",
      "  0.         0.14713048 0.11599936 0.         0.14713048 0.\n",
      "  0.11599936 0.14713048 0.58852191 0.         0.14713048 0.\n",
      "  0.         0.09391148 0.14713048 0.         0.09391148 0.\n",
      "  0.29426095 0.         0.14713048 0.14713048 0.         0.\n",
      "  0.         0.14713048 0.09391148 0.        ]\n",
      " [0.         0.         0.         0.         0.23763361 0.\n",
      "  0.         0.         0.23763361 0.         0.         0.\n",
      "  0.23763361 0.         0.         0.         0.23763361 0.\n",
      "  0.         0.         0.         0.         0.         0.23763361\n",
      "  0.         0.         0.         0.23763361 0.         0.\n",
      "  0.23763361 0.15167845 0.         0.23763361 0.15167845 0.\n",
      "  0.         0.47526722 0.         0.         0.23763361 0.\n",
      "  0.37470613 0.         0.15167845 0.23763361]\n",
      " [0.35592415 0.         0.         0.28061469 0.         0.\n",
      "  0.35592415 0.         0.         0.         0.         0.\n",
      "  0.         0.         0.         0.28061469 0.         0.\n",
      "  0.35592415 0.         0.28061469 0.         0.         0.\n",
      "  0.         0.         0.         0.         0.         0.\n",
      "  0.         0.         0.         0.         0.22718178 0.35592415\n",
      "  0.         0.         0.         0.         0.         0.35592415\n",
      "  0.28061469 0.         0.         0.        ]]\n"
     ]
    }
   ],
   "source": [
    "# TFIDR Vectorizer gives value based on Inverse Document Frequency, i.e., relative\n",
    "# occurence of words in the documents. Hence, context is by word frequency.\n",
    "\n",
    "vectorizer = TfidfVectorizer()\n",
    "X = vectorizer.fit_transform(corpus)\n",
    "\n",
    "print(vectorizer.get_feature_names())\n",
    "print(X.toarray())"
   ]
  },
  {
   "cell_type": "code",
   "execution_count": 10,
   "metadata": {},
   "outputs": [],
   "source": [
    "# We can use relative word occurence (similarity) to measure similarity between documents\n",
    "from sklearn.metrics.pairwise import cosine_similarity"
   ]
  },
  {
   "cell_type": "code",
   "execution_count": 11,
   "metadata": {},
   "outputs": [
    {
     "name": "stdout",
     "output_type": "stream",
     "text": [
      "similarity of doc-1 (National Secondary Drinking Water Regulations (NSDWRs)) with \n",
      " -> doc-2 (NSDWRs (or secondary standards) are non-enforceable guidelines regulating contaminants that may cause cosmetic effects (such as skin or tooth discoloration) or aesthetic effects (such as taste, odor, or color) in drinking water) is = [[0.15031176]]\n",
      "similarity of doc-1 (National Secondary Drinking Water Regulations (NSDWRs)) with \n",
      " -> doc-3 ( EPA recommends secondary standards to water systems but does not require systems to comply with the standard) is = [[0.09611996]]\n",
      "similarity of doc-1 (National Secondary Drinking Water Regulations (NSDWRs)) with \n",
      " -> doc-4 ( However, states may choose to adopt them as enforceable standards) is = [[0.]]\n"
     ]
    }
   ],
   "source": [
    "for i in range(1, len(corpus)):\n",
    "    print (\"similarity of doc-1 (\" + \n",
    "           corpus[0] + \") with \\n -> doc-\" + \n",
    "           str(i+1) + \" (\" + corpus[i] + \") is = \"  + \n",
    "           str(cosine_similarity (X[0], X[i])))\n"
   ]
  },
  {
   "cell_type": "code",
   "execution_count": null,
   "metadata": {},
   "outputs": [],
   "source": []
  }
 ],
 "metadata": {
  "kernelspec": {
   "display_name": "Python 3",
   "language": "python",
   "name": "python3"
  },
  "language_info": {
   "codemirror_mode": {
    "name": "ipython",
    "version": 3
   },
   "file_extension": ".py",
   "mimetype": "text/x-python",
   "name": "python",
   "nbconvert_exporter": "python",
   "pygments_lexer": "ipython3",
   "version": "3.8.3"
  }
 },
 "nbformat": 4,
 "nbformat_minor": 4
}
