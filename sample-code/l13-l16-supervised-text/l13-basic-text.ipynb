{
 "cells": [
  {
   "cell_type": "markdown",
   "metadata": {},
   "source": [
    "# Examples with Regular Expressions"
   ]
  },
  {
   "cell_type": "code",
   "execution_count": 2,
   "metadata": {},
   "outputs": [],
   "source": [
    "# Import package\n",
    "import re"
   ]
  },
  {
   "cell_type": "code",
   "execution_count": 3,
   "metadata": {},
   "outputs": [
    {
     "name": "stdout",
     "output_type": "stream",
     "text": [
      "\n",
      "National Secondary Drinking Water Regulations (NSDWRs)\n",
      "NSDWRs (or secondary standards) are non-enforceable guidelines regulating contaminants that may cause cosmetic effects (such as skin or tooth discoloration) or aesthetic effects (such as taste, odor, or color) in drinking water. EPA recommends secondary standards to water systems but does not require systems to comply with the standard. However, states may choose to adopt them as enforceable standards.\n",
      "\n"
     ]
    }
   ],
   "source": [
    "# String (data) to experiment with - from water - \n",
    "# -- https://www.epa.gov/sdwa/drinking-water-regulations-and-contaminants\n",
    "data = \"\"\"\n",
    "National Secondary Drinking Water Regulations (NSDWRs)\n",
    "NSDWRs (or secondary standards) are non-enforceable guidelines regulating contaminants that may cause cosmetic effects (such as skin or tooth discoloration) or aesthetic effects (such as taste, odor, or color) in drinking water. EPA recommends secondary standards to water systems but does not require systems to comply with the standard. However, states may choose to adopt them as enforceable standards.\n",
    "\"\"\"\n",
    "print (data)"
   ]
  },
  {
   "cell_type": "code",
   "execution_count": 4,
   "metadata": {},
   "outputs": [
    {
     "name": "stdout",
     "output_type": "stream",
     "text": [
      "['National', 'Secondary', 'Drinking', 'Water', 'Regulations', 'NSDWRs', 'NSDWRs', 'or', 'secondary', 'standards', 'are', 'non', 'enforceable', 'guidelines', 'regulating', 'contaminants', 'that', 'may', 'cause', 'cosmetic', 'effects', 'such', 'as', 'skin', 'or', 'tooth', 'discoloration', 'or', 'aesthetic', 'effects', 'such', 'as', 'taste', 'odor', 'or', 'color', 'in', 'drinking', 'water', 'EPA', 'recommends', 'secondary', 'standards', 'to', 'water', 'systems', 'but', 'does', 'not', 'require', 'systems', 'to', 'comply', 'with', 'the', 'standard', 'However', 'states', 'may', 'choose', 'to', 'adopt', 'them', 'as', 'enforceable', 'standards']\n"
     ]
    }
   ],
   "source": [
    "# Find all words\n",
    "pattern = \"\\w+\"\n",
    "m = re.findall(pattern, data)\n",
    "print(m)"
   ]
  },
  {
   "cell_type": "code",
   "execution_count": 5,
   "metadata": {},
   "outputs": [
    {
     "name": "stdout",
     "output_type": "stream",
     "text": [
      "{'NSDWRs', 'enforceable', 'contaminants', 'choose', 'with', 'Secondary', 'effects', 'guidelines', 'odor', 'or', 'systems', 'states', 'cosmetic', 'tooth', 'in', 'does', 'not', 'taste', 'to', 'require', 'Water', 'them', 'non', 'However', 'that', 'as', 'secondary', 'skin', 'aesthetic', 'such', 'Drinking', 'drinking', 'may', 'adopt', 'standards', 'water', 'comply', 'color', 'National', 'Regulations', 'EPA', 'the', 'recommends', 'are', 'discoloration', 'regulating', 'but', 'standard', 'cause'}\n"
     ]
    }
   ],
   "source": [
    "# Find unique words\n",
    "print (set (m))"
   ]
  },
  {
   "cell_type": "code",
   "execution_count": 6,
   "metadata": {},
   "outputs": [
    {
     "name": "stdout",
     "output_type": "stream",
     "text": [
      "['(NSDWRs)', '(or secondary standards)', '(such as skin or tooth discoloration)']\n"
     ]
    }
   ],
   "source": [
    "# Find all words in brackets\n",
    "pattern = \"\\([a-zA-Z ]+\\)\"\n",
    "m = re.findall(pattern, data)\n",
    "print(m)"
   ]
  },
  {
   "cell_type": "markdown",
   "metadata": {},
   "source": [
    "# Discrete Text Representation"
   ]
  },
  {
   "cell_type": "code",
   "execution_count": 7,
   "metadata": {},
   "outputs": [],
   "source": [
    "# A function that will encode a-z, (, ), -, \\n,,, space and '.'\n",
    "def do_integer_encoding(data):\n",
    "    # define universe of possible input values\n",
    "    alphabet = 'abcdefghijklmnopqrstuvwxyz()-, \\n.'\n",
    "    \n",
    "    # define a mapping of chars to integers\n",
    "    char_to_int = dict((c, i) for i, c in enumerate(alphabet))\n",
    "    int_to_char = dict((i, c) for i, c in enumerate(alphabet))\n",
    "    \n",
    "    # integer encoded input data\n",
    "    integer_encoded = [char_to_int[char] for char in data]\n",
    "    char_decoded = [int_to_char[integ] for integ in integer_encoded]\n",
    "    \n",
    "    return integer_encoded, char_decoded"
   ]
  },
  {
   "cell_type": "code",
   "execution_count": 8,
   "metadata": {},
   "outputs": [
    {
     "name": "stdout",
     "output_type": "stream",
     "text": [
      "-> data = \n",
      "national secondary drinking water regulations (nsdwrs)\n",
      "nsdwrs (or secondary standards) are non-enforceable guidelines regulating contaminants that may cause cosmetic effects (such as skin or tooth discoloration) or aesthetic effects (such as taste, odor, or color) in drinking water. epa recommends secondary standards to water systems but does not require systems to comply with the standard. however, states may choose to adopt them as enforceable standards.\n",
      "\n",
      "-> enc = [31, 13, 0, 19, 8, 14, 13, 0, 11, 30, 18, 4, 2, 14, 13, 3, 0, 17, 24, 30, 3, 17, 8, 13, 10, 8, 13, 6, 30, 22, 0, 19, 4, 17, 30, 17, 4, 6, 20, 11, 0, 19, 8, 14, 13, 18, 30, 26, 13, 18, 3, 22, 17, 18, 27, 31, 13, 18, 3, 22, 17, 18, 30, 26, 14, 17, 30, 18, 4, 2, 14, 13, 3, 0, 17, 24, 30, 18, 19, 0, 13, 3, 0, 17, 3, 18, 27, 30, 0, 17, 4, 30, 13, 14, 13, 28, 4, 13, 5, 14, 17, 2, 4, 0, 1, 11, 4, 30, 6, 20, 8, 3, 4, 11, 8, 13, 4, 18, 30, 17, 4, 6, 20, 11, 0, 19, 8, 13, 6, 30, 2, 14, 13, 19, 0, 12, 8, 13, 0, 13, 19, 18, 30, 19, 7, 0, 19, 30, 12, 0, 24, 30, 2, 0, 20, 18, 4, 30, 2, 14, 18, 12, 4, 19, 8, 2, 30, 4, 5, 5, 4, 2, 19, 18, 30, 26, 18, 20, 2, 7, 30, 0, 18, 30, 18, 10, 8, 13, 30, 14, 17, 30, 19, 14, 14, 19, 7, 30, 3, 8, 18, 2, 14, 11, 14, 17, 0, 19, 8, 14, 13, 27, 30, 14, 17, 30, 0, 4, 18, 19, 7, 4, 19, 8, 2, 30, 4, 5, 5, 4, 2, 19, 18, 30, 26, 18, 20, 2, 7, 30, 0, 18, 30, 19, 0, 18, 19, 4, 29, 30, 14, 3, 14, 17, 29, 30, 14, 17, 30, 2, 14, 11, 14, 17, 27, 30, 8, 13, 30, 3, 17, 8, 13, 10, 8, 13, 6, 30, 22, 0, 19, 4, 17, 32, 30, 4, 15, 0, 30, 17, 4, 2, 14, 12, 12, 4, 13, 3, 18, 30, 18, 4, 2, 14, 13, 3, 0, 17, 24, 30, 18, 19, 0, 13, 3, 0, 17, 3, 18, 30, 19, 14, 30, 22, 0, 19, 4, 17, 30, 18, 24, 18, 19, 4, 12, 18, 30, 1, 20, 19, 30, 3, 14, 4, 18, 30, 13, 14, 19, 30, 17, 4, 16, 20, 8, 17, 4, 30, 18, 24, 18, 19, 4, 12, 18, 30, 19, 14, 30, 2, 14, 12, 15, 11, 24, 30, 22, 8, 19, 7, 30, 19, 7, 4, 30, 18, 19, 0, 13, 3, 0, 17, 3, 32, 30, 7, 14, 22, 4, 21, 4, 17, 29, 30, 18, 19, 0, 19, 4, 18, 30, 12, 0, 24, 30, 2, 7, 14, 14, 18, 4, 30, 19, 14, 30, 0, 3, 14, 15, 19, 30, 19, 7, 4, 12, 30, 0, 18, 30, 4, 13, 5, 14, 17, 2, 4, 0, 1, 11, 4, 30, 18, 19, 0, 13, 3, 0, 17, 3, 18, 32, 31]\n",
      "-> decoded data: -> dec = \n",
      "national secondary drinking water regulations (nsdwrs)\n",
      "nsdwrs (or secondary standards) are non-enforceable guidelines regulating contaminants that may cause cosmetic effects (such as skin or tooth discoloration) or aesthetic effects (such as taste, odor, or color) in drinking water. epa recommends secondary standards to water systems but does not require systems to comply with the standard. however, states may choose to adopt them as enforceable standards.\n",
      "\n"
     ]
    }
   ],
   "source": [
    "# See with a sample string\n",
    "low_data = data.lower()\n",
    "enc, dec = do_integer_encoding(low_data)\n",
    "print (\"-> data = \" + low_data + \"\\n-> enc = \" + str(enc))\n",
    "print (\"-> decoded data: \" +  \"-> dec = \" + \"\".join(dec))"
   ]
  },
  {
   "cell_type": "code",
   "execution_count": 9,
   "metadata": {},
   "outputs": [],
   "source": [
    "# Scikit has support for label encoding\n",
    "# https://scikit-learn.org/stable/modules/generated/sklearn.preprocessing.LabelEncoder.html\n",
    "from sklearn.preprocessing import LabelEncoder\n",
    "\n",
    "# But need an array of words as input"
   ]
  },
  {
   "cell_type": "code",
   "execution_count": 11,
   "metadata": {},
   "outputs": [
    {
     "name": "stdout",
     "output_type": "stream",
     "text": [
      "['\\nNational', 'Secondary', 'Drinking', 'Water', 'Regulations', '(NSDWRs)\\nNSDWRs', '(or', 'secondary', 'standards)', 'are', 'non-enforceable', 'guidelines', 'regulating', 'contaminants', 'that', 'may', 'cause', 'cosmetic', 'effects', '(such', 'as', 'skin', 'or', 'tooth', 'discoloration)', 'or', 'aesthetic', 'effects', '(such', 'as', 'taste,', 'odor,', 'or', 'color)', 'in', 'drinking', 'water.', 'EPA', 'recommends', 'secondary', 'standards', 'to', 'water', 'systems', 'but', 'does', 'not', 'require', 'systems', 'to', 'comply', 'with', 'the', 'standard.', 'However,', 'states', 'may', 'choose', 'to', 'adopt', 'them', 'as', 'enforceable', 'standards.\\n']\n"
     ]
    }
   ],
   "source": [
    "# We get it by getting words from split; a hack\n",
    "pattern = \" \"\n",
    "m = re.split(pattern, data)\n",
    "print (m)"
   ]
  },
  {
   "cell_type": "code",
   "execution_count": 12,
   "metadata": {},
   "outputs": [
    {
     "name": "stdout",
     "output_type": "stream",
     "text": [
      "[ 0  8  4  9  7  1  2 36 40 12 29 26 34 19 45 28 15 20 24  3 13 37 32 49\n",
      " 21 32 11 24  3 13 44 31 32 17 27 23 51  5 33 36 39 48 50 43 14 22 30 35\n",
      " 43 48 18 52 46 38  6 42 28 16 48 10 47 13 25 41]\n"
     ]
    }
   ],
   "source": [
    "# Now we can ask for encoding\n",
    "label_encoder = LabelEncoder()\n",
    "integer_encoded = label_encoder.fit_transform(m)\n",
    "print(integer_encoded)"
   ]
  },
  {
   "cell_type": "code",
   "execution_count": 13,
   "metadata": {},
   "outputs": [
    {
     "name": "stdout",
     "output_type": "stream",
     "text": [
      "['\\nNational' 'Secondary' 'Drinking' 'Water' 'Regulations'\n",
      " '(NSDWRs)\\nNSDWRs' '(or' 'secondary' 'standards)' 'are' 'non-enforceable'\n",
      " 'guidelines' 'regulating' 'contaminants' 'that' 'may' 'cause' 'cosmetic'\n",
      " 'effects' '(such' 'as' 'skin' 'or' 'tooth' 'discoloration)' 'or'\n",
      " 'aesthetic' 'effects' '(such' 'as' 'taste,' 'odor,' 'or' 'color)' 'in'\n",
      " 'drinking' 'water.' 'EPA' 'recommends' 'secondary' 'standards' 'to'\n",
      " 'water' 'systems' 'but' 'does' 'not' 'require' 'systems' 'to' 'comply'\n",
      " 'with' 'the' 'standard.' 'However,' 'states' 'may' 'choose' 'to' 'adopt'\n",
      " 'them' 'as' 'enforceable' 'standards.\\n']\n"
     ]
    }
   ],
   "source": [
    "# And decode\n",
    "inverted = label_encoder.inverse_transform(integer_encoded)\n",
    "print(inverted)"
   ]
  },
  {
   "cell_type": "code",
   "execution_count": null,
   "metadata": {},
   "outputs": [],
   "source": []
  }
 ],
 "metadata": {
  "kernelspec": {
   "display_name": "Python 3",
   "language": "python",
   "name": "python3"
  },
  "language_info": {
   "codemirror_mode": {
    "name": "ipython",
    "version": 3
   },
   "file_extension": ".py",
   "mimetype": "text/x-python",
   "name": "python",
   "nbconvert_exporter": "python",
   "pygments_lexer": "ipython3",
   "version": "3.8.3"
  }
 },
 "nbformat": 4,
 "nbformat_minor": 4
}
