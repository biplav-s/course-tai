{
 "cells": [
  {
   "cell_type": "code",
   "execution_count": 1,
   "metadata": {},
   "outputs": [],
   "source": [
    "# Based on \n",
    "# - Task: https://www.kaggle.com/shivamkushwaha/bbc-full-text-document-classification\n",
    "# - https://www.kaggle.com/hemanth346/bbc-classification\n",
    "# - https://www.kaggle.com/skaistule/text-classification-clustering"
   ]
  },
  {
   "cell_type": "code",
   "execution_count": 2,
   "metadata": {},
   "outputs": [],
   "source": [
    "import numpy as np # linear algebra\n",
    "import pandas as pd # data processing\n",
    "import matplotlib.pyplot as plt # visualization\n",
    "import seaborn as sns # visualization\n",
    "\n",
    "import os # file processing"
   ]
  },
  {
   "cell_type": "code",
   "execution_count": 3,
   "metadata": {},
   "outputs": [
    {
     "name": "stdout",
     "output_type": "stream",
     "text": [
      "../common-data/bbc/entertainment\n",
      "../common-data/bbc/business\n",
      "../common-data/bbc/sport\n",
      "../common-data/bbc/politics\n",
      "../common-data/bbc/tech\n"
     ]
    }
   ],
   "source": [
    "data_dir = \"../common-data/bbc\"\n",
    "\n",
    "# Checking the data\n",
    "for root, dirs, files in os.walk(data_dir, topdown=False):\n",
    "   #for name in files:\n",
    "   #   print(os.path.join(root, name))\n",
    "    \n",
    "   # Printing just the dirs\n",
    "   for name in dirs:\n",
    "      print(os.path.join(root, name))"
   ]
  },
  {
   "cell_type": "code",
   "execution_count": 4,
   "metadata": {},
   "outputs": [],
   "source": [
    "# Load data into dictionary\n",
    "from collections import defaultdict\n",
    "frame = defaultdict(list)\n",
    "\n",
    "for dirname, _, filenames in os.walk(data_dir):\n",
    "    for filename in filenames:\n",
    "        frame['category'].append(os.path.basename(dirname))\n",
    "        \n",
    "        name = os.path.splitext(filename)[0]\n",
    "        frame['document_id'].append(name)\n",
    "\n",
    "        path = os.path.join(dirname, filename)\n",
    "        # throwed UnicodeDecodeError without encoding\n",
    "        # Googled \"UnicodeDecodeError: 'utf-8' codec can't decode byte 0xa3\" - https://stackoverflow.com/a/55391198/7445772\n",
    "        with open(path ,'r', encoding= 'unicode_escape') as file:\n",
    "            frame['text'].append(file.read())"
   ]
  },
  {
   "cell_type": "code",
   "execution_count": 5,
   "metadata": {},
   "outputs": [
    {
     "data": {
      "text/html": [
       "<div>\n",
       "<style scoped>\n",
       "    .dataframe tbody tr th:only-of-type {\n",
       "        vertical-align: middle;\n",
       "    }\n",
       "\n",
       "    .dataframe tbody tr th {\n",
       "        vertical-align: top;\n",
       "    }\n",
       "\n",
       "    .dataframe thead th {\n",
       "        text-align: right;\n",
       "    }\n",
       "</style>\n",
       "<table border=\"1\" class=\"dataframe\">\n",
       "  <thead>\n",
       "    <tr style=\"text-align: right;\">\n",
       "      <th></th>\n",
       "      <th>category</th>\n",
       "      <th>document_id</th>\n",
       "      <th>text</th>\n",
       "    </tr>\n",
       "  </thead>\n",
       "  <tbody>\n",
       "    <tr>\n",
       "      <th>0</th>\n",
       "      <td>bbc</td>\n",
       "      <td>README</td>\n",
       "      <td>Consists of 2225 documents from the BBC news w...</td>\n",
       "    </tr>\n",
       "    <tr>\n",
       "      <th>1</th>\n",
       "      <td>entertainment</td>\n",
       "      <td>289</td>\n",
       "      <td>Musicians to tackle US red tape\\n\\nMusicians' ...</td>\n",
       "    </tr>\n",
       "    <tr>\n",
       "      <th>2</th>\n",
       "      <td>entertainment</td>\n",
       "      <td>262</td>\n",
       "      <td>U2's desire to be number one\\n\\nU2, who have w...</td>\n",
       "    </tr>\n",
       "    <tr>\n",
       "      <th>3</th>\n",
       "      <td>entertainment</td>\n",
       "      <td>276</td>\n",
       "      <td>Rocker Doherty in on-stage fight\\n\\nRock singe...</td>\n",
       "    </tr>\n",
       "    <tr>\n",
       "      <th>4</th>\n",
       "      <td>entertainment</td>\n",
       "      <td>060</td>\n",
       "      <td>Snicket tops US box office chart\\n\\nThe film a...</td>\n",
       "    </tr>\n",
       "  </tbody>\n",
       "</table>\n",
       "</div>"
      ],
      "text/plain": [
       "        category document_id  \\\n",
       "0            bbc      README   \n",
       "1  entertainment         289   \n",
       "2  entertainment         262   \n",
       "3  entertainment         276   \n",
       "4  entertainment         060   \n",
       "\n",
       "                                                text  \n",
       "0  Consists of 2225 documents from the BBC news w...  \n",
       "1  Musicians to tackle US red tape\\n\\nMusicians' ...  \n",
       "2  U2's desire to be number one\\n\\nU2, who have w...  \n",
       "3  Rocker Doherty in on-stage fight\\n\\nRock singe...  \n",
       "4  Snicket tops US box office chart\\n\\nThe film a...  "
      ]
     },
     "execution_count": 5,
     "metadata": {},
     "output_type": "execute_result"
    }
   ],
   "source": [
    "# We can convert the dictionary into data frame\n",
    "df = pd.DataFrame.from_dict(frame)\n",
    "\n",
    "# See a sample\n",
    "df.head()"
   ]
  },
  {
   "cell_type": "code",
   "execution_count": 6,
   "metadata": {},
   "outputs": [
    {
     "data": {
      "text/plain": [
       "sport            511\n",
       "business         510\n",
       "politics         417\n",
       "tech             401\n",
       "entertainment    386\n",
       "bbc                1\n",
       "Name: category, dtype: int64"
      ]
     },
     "execution_count": 6,
     "metadata": {},
     "output_type": "execute_result"
    }
   ],
   "source": [
    "df['category'].value_counts()\n",
    "# bbc is data_dir with just readme file, we can drop it and proceed"
   ]
  },
  {
   "cell_type": "code",
   "execution_count": 7,
   "metadata": {},
   "outputs": [],
   "source": [
    "# Removing the readme (category bbc) \n",
    "df.drop(0, axis=0, inplace=True)"
   ]
  },
  {
   "cell_type": "code",
   "execution_count": 8,
   "metadata": {},
   "outputs": [
    {
     "data": {
      "text/plain": [
       "sport            511\n",
       "business         510\n",
       "politics         417\n",
       "tech             401\n",
       "entertainment    386\n",
       "Name: category, dtype: int64"
      ]
     },
     "execution_count": 8,
     "metadata": {},
     "output_type": "execute_result"
    }
   ],
   "source": [
    "# Checking: readme (category bbc) is removed\n",
    "df['category'].value_counts()"
   ]
  },
  {
   "cell_type": "code",
   "execution_count": 9,
   "metadata": {},
   "outputs": [
    {
     "data": {
      "text/html": [
       "<div>\n",
       "<style scoped>\n",
       "    .dataframe tbody tr th:only-of-type {\n",
       "        vertical-align: middle;\n",
       "    }\n",
       "\n",
       "    .dataframe tbody tr th {\n",
       "        vertical-align: top;\n",
       "    }\n",
       "\n",
       "    .dataframe thead th {\n",
       "        text-align: right;\n",
       "    }\n",
       "</style>\n",
       "<table border=\"1\" class=\"dataframe\">\n",
       "  <thead>\n",
       "    <tr style=\"text-align: right;\">\n",
       "      <th></th>\n",
       "      <th>category</th>\n",
       "      <th>document_id</th>\n",
       "      <th>text</th>\n",
       "      <th>title</th>\n",
       "      <th>story</th>\n",
       "    </tr>\n",
       "  </thead>\n",
       "  <tbody>\n",
       "    <tr>\n",
       "      <th>1</th>\n",
       "      <td>entertainment</td>\n",
       "      <td>289</td>\n",
       "      <td>Musicians to tackle US red tape\\n\\nMusicians' ...</td>\n",
       "      <td>Musicians to tackle US red tape</td>\n",
       "      <td>\\nMusicians' groups are to tackle US visa regu...</td>\n",
       "    </tr>\n",
       "    <tr>\n",
       "      <th>2</th>\n",
       "      <td>entertainment</td>\n",
       "      <td>262</td>\n",
       "      <td>U2's desire to be number one\\n\\nU2, who have w...</td>\n",
       "      <td>U2's desire to be number one</td>\n",
       "      <td>\\nU2, who have won three prestigious Grammy Aw...</td>\n",
       "    </tr>\n",
       "    <tr>\n",
       "      <th>3</th>\n",
       "      <td>entertainment</td>\n",
       "      <td>276</td>\n",
       "      <td>Rocker Doherty in on-stage fight\\n\\nRock singe...</td>\n",
       "      <td>Rocker Doherty in on-stage fight</td>\n",
       "      <td>\\nRock singer Pete Doherty has been involved i...</td>\n",
       "    </tr>\n",
       "    <tr>\n",
       "      <th>4</th>\n",
       "      <td>entertainment</td>\n",
       "      <td>060</td>\n",
       "      <td>Snicket tops US box office chart\\n\\nThe film a...</td>\n",
       "      <td>Snicket tops US box office chart</td>\n",
       "      <td>\\nThe film adaptation of Lemony Snicket novels...</td>\n",
       "    </tr>\n",
       "    <tr>\n",
       "      <th>5</th>\n",
       "      <td>entertainment</td>\n",
       "      <td>074</td>\n",
       "      <td>Ocean's Twelve raids box office\\n\\nOcean's Twe...</td>\n",
       "      <td>Ocean's Twelve raids box office</td>\n",
       "      <td>\\nOcean's Twelve, the crime caper sequel starr...</td>\n",
       "    </tr>\n",
       "  </tbody>\n",
       "</table>\n",
       "</div>"
      ],
      "text/plain": [
       "        category document_id  \\\n",
       "1  entertainment         289   \n",
       "2  entertainment         262   \n",
       "3  entertainment         276   \n",
       "4  entertainment         060   \n",
       "5  entertainment         074   \n",
       "\n",
       "                                                text  \\\n",
       "1  Musicians to tackle US red tape\\n\\nMusicians' ...   \n",
       "2  U2's desire to be number one\\n\\nU2, who have w...   \n",
       "3  Rocker Doherty in on-stage fight\\n\\nRock singe...   \n",
       "4  Snicket tops US box office chart\\n\\nThe film a...   \n",
       "5  Ocean's Twelve raids box office\\n\\nOcean's Twe...   \n",
       "\n",
       "                              title  \\\n",
       "1   Musicians to tackle US red tape   \n",
       "2      U2's desire to be number one   \n",
       "3  Rocker Doherty in on-stage fight   \n",
       "4  Snicket tops US box office chart   \n",
       "5   Ocean's Twelve raids box office   \n",
       "\n",
       "                                               story  \n",
       "1  \\nMusicians' groups are to tackle US visa regu...  \n",
       "2  \\nU2, who have won three prestigious Grammy Aw...  \n",
       "3  \\nRock singer Pete Doherty has been involved i...  \n",
       "4  \\nThe film adaptation of Lemony Snicket novels...  \n",
       "5  \\nOcean's Twelve, the crime caper sequel starr...  "
      ]
     },
     "execution_count": 9,
     "metadata": {},
     "output_type": "execute_result"
    }
   ],
   "source": [
    "# Assuming first line has title, add a column with title and the rest as body\n",
    "text = df[\"text\"].str.split(\"\\n\", n = 1, expand = True) \n",
    "\n",
    "df[\"title\"] =  text[0]\n",
    "df['story'] = text[1]\n",
    "\n",
    "# See a sample\n",
    "df.head()"
   ]
  },
  {
   "cell_type": "code",
   "execution_count": 10,
   "metadata": {},
   "outputs": [
    {
     "data": {
      "image/png": "[encoded data removed]",
      "text/plain": [
       "<Figure size 432x288 with 1 Axes>"
      ]
     },
     "metadata": {
      "needs_background": "light"
     },
     "output_type": "display_data"
    }
   ],
   "source": [
    "# Seeing content distribution by category\n",
    "sns.countplot(df.category)\n",
    "plt.title('Number of documents in each category')\n",
    "plt.show()"
   ]
  },
  {
   "cell_type": "code",
   "execution_count": 11,
   "metadata": {},
   "outputs": [
    {
     "name": "stdout",
     "output_type": "stream",
     "text": [
      "Fockers retain film chart crown\n",
      "------------------------------------\n",
      "Market unfazed by Aurora setback\n",
      "------------------------------------\n",
      "Ailing EuroDisney vows turnaround\n",
      "------------------------------------\n",
      "REM concerts blighted by illness\n",
      "------------------------------------\n",
      "GE sees 'excellent' world economy\n",
      "------------------------------------\n",
      "Ministers deny care sums 'wrong'\n",
      "------------------------------------\n",
      "The Sound of Music is coming home\n",
      "------------------------------------\n",
      "Gallery unveils interactive tree\n",
      "------------------------------------\n",
      "Double eviction from Big Brother\n",
      "------------------------------------\n",
      "US firm pulls out of Iraq\n",
      "------------------------------------\n"
     ]
    }
   ],
   "source": [
    "import random\n",
    "\n",
    "# Making a sample of random titles which will be used to verify changes\n",
    "samples = random.sample(range(len(df.title)), 10)\n",
    "for idx in samples:\n",
    "    print(df.title[idx])\n",
    "    print('-'*36)"
   ]
  },
  {
   "cell_type": "code",
   "execution_count": 12,
   "metadata": {},
   "outputs": [],
   "source": [
    "import re\n",
    "import nltk\n",
    "from nltk.corpus import stopwords\n",
    "stopwords = stopwords.words('english')\n",
    "\n",
    "def clean_text(text):\n",
    "    # decontraction : https://stackoverflow.com/a/47091490/7445772\n",
    "    # specific\n",
    "    text = re.sub(r\"won't\", \"will not\", text)\n",
    "    text = re.sub(r\"can\\'t\", \"can not\", text)\n",
    "    # general\n",
    "    text = re.sub(r\"n\\'t\", \" not\", text)\n",
    "    text = re.sub(r\"\\'re\", \" are\", text)\n",
    "    text = re.sub(r\"\\'s\", \" is\", text)\n",
    "    text = re.sub(r\"\\'d\", \" would\", text)\n",
    "    text = re.sub(r\"\\'ll\", \" will\", text)\n",
    "    text = re.sub(r\"\\'t\", \" not\", text)\n",
    "    text = re.sub(r\"\\'ve\", \" have\", text)\n",
    "    text = re.sub(r\"\\'m\", \" am\", text)\n",
    "    \n",
    "    \n",
    "    # remove line breaks \\r \\n \\t remove from string \n",
    "    text = text.replace('\\\\r', ' ')\n",
    "    text = text.replace('\\\\\"', ' ')\n",
    "    text = text.replace('\\\\t', ' ')\n",
    "    text = text.replace('\\\\n', ' ')\n",
    "\n",
    "    # remove stopwords\n",
    "    text = ' '.join(word for word in text.split() if word not in stopwords)\n",
    "\n",
    "    # remove special chars\n",
    "    text = re.sub('[^A-Za-z0-9]+', ' ', text)\n",
    "    text = text.lower()\n",
    "    return text"
   ]
  },
  {
   "cell_type": "code",
   "execution_count": 13,
   "metadata": {},
   "outputs": [],
   "source": [
    "# Clean titles\n",
    "processed_titles = []\n",
    "for title in df['title'].values:\n",
    "    processed_title = clean_text(title)\n",
    "    processed_titles.append(processed_title)"
   ]
  },
  {
   "cell_type": "code",
   "execution_count": 14,
   "metadata": {},
   "outputs": [
    {
     "name": "stdout",
     "output_type": "stream",
     "text": [
      "top gig award scissor sisters\n",
      "------------------------------------\n",
      "profits stall china lenovo\n",
      "------------------------------------\n",
      "eu probe alitalia istate aid \n",
      "------------------------------------\n",
      "charity single quake relief\n",
      "------------------------------------\n",
      "five million germans work\n",
      "------------------------------------\n",
      "tories unveil quango blitz plans\n",
      "------------------------------------\n",
      "lasting influence legend charles\n",
      "------------------------------------\n",
      "mutant book wins guardian prize\n",
      "------------------------------------\n",
      "csi shows give unrealistic view \n",
      "------------------------------------\n",
      "mcdonald boss bell dies aged 44\n",
      "------------------------------------\n"
     ]
    }
   ],
   "source": [
    "# titles after processing\n",
    "for idx in samples:\n",
    "    print(processed_titles[idx])\n",
    "    print('-'*36)"
   ]
  },
  {
   "cell_type": "code",
   "execution_count": 15,
   "metadata": {},
   "outputs": [],
   "source": [
    "# For content (title), it has to be converted to efficient/ vector representation\n",
    "from sklearn.feature_extraction.text import TfidfVectorizer\n",
    "\n",
    "vectorizer = TfidfVectorizer(min_df=5)\n",
    "title_tfidf = vectorizer.fit_transform(processed_titles)"
   ]
  },
  {
   "cell_type": "code",
   "execution_count": 16,
   "metadata": {},
   "outputs": [
    {
     "data": {
      "text/html": [
       "<div>\n",
       "<style scoped>\n",
       "    .dataframe tbody tr th:only-of-type {\n",
       "        vertical-align: middle;\n",
       "    }\n",
       "\n",
       "    .dataframe tbody tr th {\n",
       "        vertical-align: top;\n",
       "    }\n",
       "\n",
       "    .dataframe thead th {\n",
       "        text-align: right;\n",
       "    }\n",
       "</style>\n",
       "<table border=\"1\" class=\"dataframe\">\n",
       "  <thead>\n",
       "    <tr style=\"text-align: right;\">\n",
       "      <th></th>\n",
       "      <th>category</th>\n",
       "      <th>document_id</th>\n",
       "      <th>text</th>\n",
       "      <th>title</th>\n",
       "      <th>story</th>\n",
       "      <th>le_label</th>\n",
       "    </tr>\n",
       "  </thead>\n",
       "  <tbody>\n",
       "    <tr>\n",
       "      <th>2221</th>\n",
       "      <td>tech</td>\n",
       "      <td>086</td>\n",
       "      <td>Warning over Windows Word files\\n\\nWriting a M...</td>\n",
       "      <td>Warning over Windows Word files</td>\n",
       "      <td>\\nWriting a Microsoft Word document can be a d...</td>\n",
       "      <td>4</td>\n",
       "    </tr>\n",
       "    <tr>\n",
       "      <th>2222</th>\n",
       "      <td>tech</td>\n",
       "      <td>253</td>\n",
       "      <td>Fast lifts rise into record books\\n\\nTwo high-...</td>\n",
       "      <td>Fast lifts rise into record books</td>\n",
       "      <td>\\nTwo high-speed lifts at the world's tallest ...</td>\n",
       "      <td>4</td>\n",
       "    </tr>\n",
       "    <tr>\n",
       "      <th>2223</th>\n",
       "      <td>tech</td>\n",
       "      <td>247</td>\n",
       "      <td>Nintendo adds media playing to DS\\n\\nNintendo ...</td>\n",
       "      <td>Nintendo adds media playing to DS</td>\n",
       "      <td>\\nNintendo is releasing an adapter for its DS ...</td>\n",
       "      <td>4</td>\n",
       "    </tr>\n",
       "    <tr>\n",
       "      <th>2224</th>\n",
       "      <td>tech</td>\n",
       "      <td>290</td>\n",
       "      <td>Fast moving phone viruses appear\\n\\nSecurity f...</td>\n",
       "      <td>Fast moving phone viruses appear</td>\n",
       "      <td>\\nSecurity firms are warning about several mob...</td>\n",
       "      <td>4</td>\n",
       "    </tr>\n",
       "    <tr>\n",
       "      <th>2225</th>\n",
       "      <td>tech</td>\n",
       "      <td>284</td>\n",
       "      <td>Hacker threat to Apple's iTunes\\n\\nUsers of Ap...</td>\n",
       "      <td>Hacker threat to Apple's iTunes</td>\n",
       "      <td>\\nUsers of Apple's music jukebox iTunes need t...</td>\n",
       "      <td>4</td>\n",
       "    </tr>\n",
       "  </tbody>\n",
       "</table>\n",
       "</div>"
      ],
      "text/plain": [
       "     category document_id                                               text  \\\n",
       "2221     tech         086  Warning over Windows Word files\\n\\nWriting a M...   \n",
       "2222     tech         253  Fast lifts rise into record books\\n\\nTwo high-...   \n",
       "2223     tech         247  Nintendo adds media playing to DS\\n\\nNintendo ...   \n",
       "2224     tech         290  Fast moving phone viruses appear\\n\\nSecurity f...   \n",
       "2225     tech         284  Hacker threat to Apple's iTunes\\n\\nUsers of Ap...   \n",
       "\n",
       "                                  title  \\\n",
       "2221    Warning over Windows Word files   \n",
       "2222  Fast lifts rise into record books   \n",
       "2223  Nintendo adds media playing to DS   \n",
       "2224   Fast moving phone viruses appear   \n",
       "2225    Hacker threat to Apple's iTunes   \n",
       "\n",
       "                                                  story  le_label  \n",
       "2221  \\nWriting a Microsoft Word document can be a d...         4  \n",
       "2222  \\nTwo high-speed lifts at the world's tallest ...         4  \n",
       "2223  \\nNintendo is releasing an adapter for its DS ...         4  \n",
       "2224  \\nSecurity firms are warning about several mob...         4  \n",
       "2225  \\nUsers of Apple's music jukebox iTunes need t...         4  "
      ]
     },
     "execution_count": 16,
     "metadata": {},
     "output_type": "execute_result"
    }
   ],
   "source": [
    "# For label (categorical), it has to be converted to one hot encoding\n",
    "from sklearn.preprocessing import LabelEncoder\n",
    "\n",
    "le = LabelEncoder()\n",
    "df['le_label'] = le.fit_transform(df['category'])\n",
    "\n",
    "# Also keep it handly as a list\n",
    "category_onehot = (df['le_label'].values)\n",
    "\n",
    "# Check dataframe just to be safe\n",
    "df.tail()"
   ]
  },
  {
   "cell_type": "code",
   "execution_count": 17,
   "metadata": {},
   "outputs": [],
   "source": [
    "# Training a classifier\n",
    "\n",
    "from sklearn.model_selection import train_test_split\n",
    "from sklearn.metrics import accuracy_score, confusion_matrix\n",
    "from sklearn import linear_model"
   ]
  },
  {
   "cell_type": "code",
   "execution_count": 18,
   "metadata": {},
   "outputs": [],
   "source": [
    "X = title_tfidf\n",
    "y = category_onehot"
   ]
  },
  {
   "cell_type": "code",
   "execution_count": 19,
   "metadata": {},
   "outputs": [],
   "source": [
    "# Train and test split\n",
    "X_train, X_test, y_train, y_test = train_test_split(X, y,test_size = 0.2, random_state=9)\n",
    "\n"
   ]
  },
  {
   "cell_type": "code",
   "execution_count": 20,
   "metadata": {},
   "outputs": [],
   "source": [
    "# Train a logistic model\n",
    "model = linear_model.LogisticRegression()\n",
    "model.fit(X_train,y_train)\n",
    "LR_prediction = model.predict(X_test)"
   ]
  },
  {
   "cell_type": "code",
   "execution_count": 21,
   "metadata": {},
   "outputs": [
    {
     "name": "stdout",
     "output_type": "stream",
     "text": [
      "Using Logistic regression : 0.7146067415730337\n"
     ]
    }
   ],
   "source": [
    "# Statistics\n",
    "print(f'Using Logistic regression : {accuracy_score(LR_prediction, y_test)}')"
   ]
  },
  {
   "cell_type": "code",
   "execution_count": null,
   "metadata": {},
   "outputs": [],
   "source": []
  }
 ],
 "metadata": {
  "kernelspec": {
   "display_name": "Python 3",
   "language": "python",
   "name": "python3"
  },
  "language_info": {
   "codemirror_mode": {
    "name": "ipython",
    "version": 3
   },
   "file_extension": ".py",
   "mimetype": "text/x-python",
   "name": "python",
   "nbconvert_exporter": "python",
   "pygments_lexer": "ipython3",
   "version": "3.8.3"
  }
 },
 "nbformat": 4,
 "nbformat_minor": 4
}
