{
 "cells": [
  {
   "cell_type": "code",
   "execution_count": 1,
   "metadata": {},
   "outputs": [],
   "source": [
    "## Based on code snippets at:\n",
    "#  - https://github.com/biplav-s/course-d2d-ai/blob/main/sample-code/l20-text-overview/FirstLook_ClassSyllabusData.ipynb\n",
    "#  - https://towardsdatascience.com/standing-out-from-the-cloud-how-to-shape-and-format-a-word-cloud-bf54beab3389"
   ]
  },
  {
   "cell_type": "code",
   "execution_count": 2,
   "metadata": {},
   "outputs": [],
   "source": [
    "## Install as appropriate\n",
    "# !pip install wordcloud"
   ]
  },
  {
   "cell_type": "code",
   "execution_count": 3,
   "metadata": {},
   "outputs": [],
   "source": [
    "# Now we define a function to do word cloud\n",
    "from wordcloud import WordCloud,STOPWORDS\n",
    "import matplotlib.pyplot as plt\n",
    "%matplotlib inline\n",
    "    \n",
    "\n",
    "def wordcloud_draw(data, joinlines = 'false', color = 'black'):\n",
    "    if (joinlines == 'false'): \n",
    "        words = ''.join(data)\n",
    "    else:\n",
    "        words = ' '.join(data)   \n",
    "        \n",
    "    cleaned_word = \" \".join([word for word in words.split()\n",
    "                            if 'http' not in word\n",
    "                                and not word.startswith('@')\n",
    "                                and not word.startswith('#')\n",
    "                                and word != 'RT'\n",
    "                            ])\n",
    "    wordcloud = WordCloud(stopwords=STOPWORDS,\n",
    "                      background_color=color,\n",
    "                      width=2500,\n",
    "                      height=2000\n",
    "                     ).generate(cleaned_word)\n",
    "    plt.figure(1,figsize=(13, 13))\n",
    "    plt.imshow(wordcloud)\n",
    "    plt.axis('off')\n",
    "    plt.show()\n",
    "    "
   ]
  },
  {
   "cell_type": "code",
   "execution_count": 4,
   "metadata": {},
   "outputs": [],
   "source": [
    "# Work with some content\n",
    "# Load from file, url or just copy-paste\n",
    "# This one from: https://sc.edu/safety/coronavirus/safety_guidelines/index.php\n",
    "content = \"Combating COVID-19 will require an effort from the entire university community, and everyone will be expected to do their part to maintain a clean, safe and healthy environment in which all members of the Gamecock family can live, learn and play. We'll continue to update this information as changes occur.\"\n"
   ]
  },
  {
   "cell_type": "code",
   "execution_count": null,
   "metadata": {},
   "outputs": [],
   "source": [
    "# Draw the visualization\n",
    "wordcloud_draw(content, joinlines = 'false')"
   ]
  },
  {
   "cell_type": "code",
   "execution_count": null,
   "metadata": {},
   "outputs": [],
   "source": [
    "# Breaskfast items from: https://www.healthline.com/nutrition/12-best-foods-to-eat-in-morning\n",
    "# - stored in ./data/breakfast.txt\n",
    "\n",
    "# Open file and get content\n",
    "file = './data/breakfast.txt'\n",
    "with open(file, 'r') as f:\n",
    "    content = \" \".join(line.rstrip() for line in f)\n",
    "f.close()"
   ]
  },
  {
   "cell_type": "code",
   "execution_count": null,
   "metadata": {},
   "outputs": [],
   "source": [
    "# Draw the visualization\n",
    "wordcloud_draw(content, joinlines = 'false')"
   ]
  },
  {
   "cell_type": "code",
   "execution_count": null,
   "metadata": {},
   "outputs": [],
   "source": [
    "# Do you notice any bias in choice of breakfast items?\n",
    "# - Do vegetarians only eat seeds?\n",
    "# - Do you eat anything healthy?"
   ]
  },
  {
   "cell_type": "markdown",
   "metadata": {},
   "source": [
    "# PDF extraction and word cloud"
   ]
  },
  {
   "cell_type": "code",
   "execution_count": null,
   "metadata": {},
   "outputs": [],
   "source": [
    "## Install if needed\n",
    "#!pip install tika\n",
    "\n",
    "## Tika also needs Java on machine\n",
    "# - Download from https://www.oracle.com/java/\n",
    "# - Check it is there with: \"java - version\""
   ]
  },
  {
   "cell_type": "code",
   "execution_count": null,
   "metadata": {},
   "outputs": [],
   "source": [
    "# Setup and define function for parsing\n",
    "\n",
    "# Uncomment if using Tika to convert from .pdf to text\n",
    "from tika import parser\n",
    "\n",
    "def convertPdf2TxtWithTika(in_pdf_file):\n",
    "    # Load a file and extract information\n",
    "    print (\"INFO: - reading file = \" + in_pdf_file)\n",
    "    \n",
    "    raw = parser.from_file(in_pdf_file)\n",
    "    text = raw['content']\n",
    "    \n",
    "    ## Post-processing explained at: \n",
    "    # https://medium.com/@justinboylantoomey/fast-text-extraction-with-python-and-tika-41ac34b0fe61\n",
    "    # Convert to string\n",
    "    text = str(text)\n",
    "    \n",
    "    return text"
   ]
  },
  {
   "cell_type": "code",
   "execution_count": null,
   "metadata": {},
   "outputs": [],
   "source": [
    "file = './data/SCSupremeCourtOpinion.pdf'\n",
    "content = convertPdf2TxtWithTika(file)\n",
    "# print (content)"
   ]
  },
  {
   "cell_type": "code",
   "execution_count": null,
   "metadata": {},
   "outputs": [],
   "source": []
  },
  {
   "cell_type": "code",
   "execution_count": null,
   "metadata": {},
   "outputs": [],
   "source": [
    "# Draw the visualization\n",
    "wordcloud_draw(content, joinlines = 'false')"
   ]
  },
  {
   "cell_type": "code",
   "execution_count": null,
   "metadata": {},
   "outputs": [],
   "source": []
  }
 ],
 "metadata": {
  "kernelspec": {
   "display_name": "Python 3",
   "language": "python",
   "name": "python3"
  },
  "language_info": {
   "codemirror_mode": {
    "name": "ipython",
    "version": 3
   },
   "file_extension": ".py",
   "mimetype": "text/x-python",
   "name": "python",
   "nbconvert_exporter": "python",
   "pygments_lexer": "ipython3",
   "version": "3.7.6"
  }
 },
 "nbformat": 4,
 "nbformat_minor": 4
}
