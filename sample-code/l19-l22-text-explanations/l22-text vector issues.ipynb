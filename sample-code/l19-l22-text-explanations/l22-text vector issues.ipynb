{
 "cells": [
  {
   "cell_type": "code",
   "execution_count": 1,
   "id": "6575c860",
   "metadata": {},
   "outputs": [],
   "source": [
    "## Based on material at:\n",
    "# - https://jonreeve.com/2019/02/workshop-word-embeddings/\n",
    "# - https://spacy.io/usage/linguistic-features#vectors-similarity"
   ]
  },
  {
   "cell_type": "code",
   "execution_count": 2,
   "id": "005aa5ef",
   "metadata": {},
   "outputs": [],
   "source": [
    "# Import libs\n",
    "import spacy\n",
    "from numpy import dot\n",
    "from numpy.linalg import norm"
   ]
  },
  {
   "cell_type": "code",
   "execution_count": 3,
   "id": "018425f2",
   "metadata": {},
   "outputs": [],
   "source": [
    "# Vector representations are available in medium and large packages\n",
    "nlp = spacy.load('en_core_web_lg')"
   ]
  },
  {
   "cell_type": "code",
   "execution_count": 4,
   "id": "01d52935",
   "metadata": {},
   "outputs": [],
   "source": [
    "# A function to define similarity\n",
    "def similarity(vecA, vecB):\n",
    "    return dot(vecA, vecB) / (norm(vecA, ord=2) * norm(vecB, ord=2))"
   ]
  },
  {
   "cell_type": "code",
   "execution_count": 5,
   "id": "fdaf8a28",
   "metadata": {},
   "outputs": [],
   "source": [
    "# A function to find similar words greedily. Starting with a base threshold\n",
    "def mostSimilar(vec):\n",
    "    highestSimilarities = [0.4]\n",
    "    highestWords = [\"\"]\n",
    "    for w in nlp.vocab:\n",
    "        sim = similarity(vec, w.vector)\n",
    "        if sim > highestSimilarities[-1]:\n",
    "            highestSimilarities.append(sim)\n",
    "            highestWords.append(w.text.lower())\n",
    "    return list(zip(highestWords, highestSimilarities))[-10:]"
   ]
  },
  {
   "cell_type": "code",
   "execution_count": 6,
   "id": "0dcb9cc4",
   "metadata": {},
   "outputs": [],
   "source": [
    "# Find vector representations\n",
    "doc = nlp('queen king woman man')\n",
    "queen, king, woman, man = doc[0].vector, doc[1].vector, doc[2].vector, doc[3].vector"
   ]
  },
  {
   "cell_type": "code",
   "execution_count": 7,
   "id": "70b66a2e",
   "metadata": {},
   "outputs": [
    {
     "name": "stderr",
     "output_type": "stream",
     "text": [
      "/Users/biplavs/opt/anaconda3/lib/python3.7/site-packages/ipykernel_launcher.py:3: RuntimeWarning: invalid value encountered in float_scalars\n",
      "  This is separate from the ipykernel package so we can avoid doing imports until\n"
     ]
    },
    {
     "data": {
      "text/plain": [
       "[('', 0.4), ('man', 0.40884617), ('king', 1.0000001)]"
      ]
     },
     "execution_count": 7,
     "metadata": {},
     "output_type": "execute_result"
    }
   ],
   "source": [
    "# Verify\n",
    "mostSimilar(king)"
   ]
  },
  {
   "cell_type": "code",
   "execution_count": 8,
   "id": "83c7e841",
   "metadata": {},
   "outputs": [
    {
     "name": "stderr",
     "output_type": "stream",
     "text": [
      "/Users/biplavs/opt/anaconda3/lib/python3.7/site-packages/ipykernel_launcher.py:3: RuntimeWarning: invalid value encountered in float_scalars\n",
      "  This is separate from the ipykernel package so we can avoid doing imports until\n"
     ]
    },
    {
     "data": {
      "text/plain": [
       "[('', 0.4), ('she', 0.40245172), ('king', 0.7252611), ('queen', 1.0000001)]"
      ]
     },
     "execution_count": 8,
     "metadata": {},
     "output_type": "execute_result"
    }
   ],
   "source": [
    "# Verify\n",
    "mostSimilar(queen)"
   ]
  },
  {
   "cell_type": "code",
   "execution_count": 9,
   "id": "90fd03db",
   "metadata": {},
   "outputs": [],
   "source": [
    "# Word embedding analogies. See latest results at:\n",
    "# - https://kawine.github.io/blog/nlp/2019/06/21/word-analogies.html"
   ]
  },
  {
   "cell_type": "code",
   "execution_count": 10,
   "id": "233e2baf",
   "metadata": {},
   "outputs": [
    {
     "name": "stderr",
     "output_type": "stream",
     "text": [
      "/Users/biplavs/opt/anaconda3/lib/python3.7/site-packages/ipykernel_launcher.py:3: RuntimeWarning: invalid value encountered in float_scalars\n",
      "  This is separate from the ipykernel package so we can avoid doing imports until\n"
     ]
    },
    {
     "data": {
      "text/plain": [
       "[('', 0.4), ('man', 0.41803107), ('king', 0.7716142), ('queen', 0.77542514)]"
      ]
     },
     "execution_count": 10,
     "metadata": {},
     "output_type": "execute_result"
    }
   ],
   "source": [
    "# answer: queen - woman + man\n",
    "x, a, b, y = [nlp(w).vector for w in ['queen', 'woman', 'man', 'king']]\n",
    "answer = x - a + b\n",
    "mostSimilar(answer)"
   ]
  },
  {
   "cell_type": "code",
   "execution_count": 11,
   "id": "5ed33e0e",
   "metadata": {},
   "outputs": [
    {
     "name": "stdout",
     "output_type": "stream",
     "text": [
      " Distance between two pairs is 0.7716141939163208.\n"
     ]
    }
   ],
   "source": [
    "# We can also compare analogy with direct result  \n",
    "dist = similarity(answer, y)\n",
    "print (f\" Distance between two pairs is {dist}.\")"
   ]
  },
  {
   "cell_type": "code",
   "execution_count": 12,
   "id": "98c7086e",
   "metadata": {},
   "outputs": [
    {
     "name": "stderr",
     "output_type": "stream",
     "text": [
      "/Users/biplavs/opt/anaconda3/lib/python3.7/site-packages/ipykernel_launcher.py:3: RuntimeWarning: invalid value encountered in float_scalars\n",
      "  This is separate from the ipykernel package so we can avoid doing imports until\n"
     ]
    },
    {
     "data": {
      "text/plain": [
       "[('', 0.4), ('delhi', 0.7410936), ('india', 0.8412354)]"
      ]
     },
     "execution_count": 12,
     "metadata": {},
     "output_type": "execute_result"
    }
   ],
   "source": [
    "# We do for country and capitals\n",
    "# y = x - a + b\n",
    "x, a, b, y = [nlp(w).vector for w in ['india', 'france', 'paris', 'new delhi']]\n",
    "answer = x - a + b\n",
    "mostSimilar(answer)"
   ]
  },
  {
   "cell_type": "code",
   "execution_count": 13,
   "id": "cde25f6e",
   "metadata": {},
   "outputs": [
    {
     "name": "stdout",
     "output_type": "stream",
     "text": [
      " Distance between two pairs is 0.6739897727966309.\n"
     ]
    }
   ],
   "source": [
    "# We can also compare analogy with direct result  \n",
    "dist = similarity(answer, y)\n",
    "print (f\" Distance between two pairs is {dist}.\")"
   ]
  },
  {
   "cell_type": "code",
   "execution_count": 14,
   "id": "6b1349d4",
   "metadata": {},
   "outputs": [
    {
     "name": "stderr",
     "output_type": "stream",
     "text": [
      "/Users/biplavs/opt/anaconda3/lib/python3.7/site-packages/ipykernel_launcher.py:3: RuntimeWarning: invalid value encountered in float_scalars\n",
      "  This is separate from the ipykernel package so we can avoid doing imports until\n"
     ]
    },
    {
     "data": {
      "text/plain": [
       "[('', 0.4), ('christian', 0.61638075), ('temple', 0.65175486)]"
      ]
     },
     "execution_count": 14,
     "metadata": {},
     "output_type": "execute_result"
    }
   ],
   "source": [
    "# We do for religion and places of worship\n",
    "# y = x - a + b\n",
    "x, a, b, y = [nlp(w).vector for w in ['christian', 'hindu', 'temple', 'church']]\n",
    "answer = x - a + b\n",
    "mostSimilar(answer)"
   ]
  },
  {
   "cell_type": "code",
   "execution_count": 15,
   "id": "0c6fecf4",
   "metadata": {},
   "outputs": [
    {
     "name": "stdout",
     "output_type": "stream",
     "text": [
      " Distance between two pairs is 0.6455529928207397.\n"
     ]
    }
   ],
   "source": [
    "# We can also compare analogy with direct result  \n",
    "dist = similarity(answer, y)\n",
    "print (f\" Distance between two pairs is {dist}.\")"
   ]
  },
  {
   "cell_type": "code",
   "execution_count": 16,
   "id": "b99e3059",
   "metadata": {},
   "outputs": [
    {
     "data": {
      "text/plain": [
       "502"
      ]
     },
     "execution_count": 16,
     "metadata": {},
     "output_type": "execute_result"
    }
   ],
   "source": [
    "# Stats about Spacy's vocab\n",
    "len(nlp.vocab)"
   ]
  },
  {
   "cell_type": "code",
   "execution_count": 17,
   "id": "24afaac9",
   "metadata": {},
   "outputs": [
    {
     "data": {
      "text/plain": [
       "{'width': 300,\n",
       " 'vectors': 684831,\n",
       " 'keys': 684830,\n",
       " 'name': 'en_core_web_lg.vectors'}"
      ]
     },
     "execution_count": 17,
     "metadata": {},
     "output_type": "execute_result"
    }
   ],
   "source": [
    "# Another way\n",
    "nlp.meta['vectors']"
   ]
  },
  {
   "cell_type": "code",
   "execution_count": null,
   "id": "ed4b90e0",
   "metadata": {},
   "outputs": [],
   "source": []
  }
 ],
 "metadata": {
  "kernelspec": {
   "display_name": "Python [conda env:root] *",
   "language": "python",
   "name": "conda-root-py"
  },
  "language_info": {
   "codemirror_mode": {
    "name": "ipython",
    "version": 3
   },
   "file_extension": ".py",
   "mimetype": "text/x-python",
   "name": "python",
   "nbconvert_exporter": "python",
   "pygments_lexer": "ipython3",
   "version": "3.7.6"
  }
 },
 "nbformat": 4,
 "nbformat_minor": 5
}
