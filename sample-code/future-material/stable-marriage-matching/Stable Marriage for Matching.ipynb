{
 "cells": [
  {
   "cell_type": "code",
   "execution_count": 1,
   "metadata": {},
   "outputs": [],
   "source": [
    "## Based on https://cs.slu.edu/~goldwasser/courses/slu/csci314/2008_Spring/lectures/marriageAlgorithm/\n",
    "#  - Code updated from Python 2 to Python 3; made into module and notebook"
   ]
  },
  {
   "cell_type": "code",
   "execution_count": 2,
   "metadata": {},
   "outputs": [],
   "source": [
    "import stableutils as su"
   ]
  },
  {
   "cell_type": "code",
   "execution_count": 3,
   "metadata": {},
   "outputs": [],
   "source": [
    "# Location of preference files\n",
    "menpref_file = 'data/menpref.txt'\n",
    "womenpref_file = 'data/womenpref.txt'"
   ]
  },
  {
   "cell_type": "code",
   "execution_count": 4,
   "metadata": {},
   "outputs": [],
   "source": [
    "# Process men and women files\n",
    "menlist = su.parseFile(menpref_file)\n",
    "men = dict()\n",
    "for person in menlist:\n",
    "    men[person[0]] = su.Man(person[0],person[1])\n",
    "unwedMen = men.keys()\n",
    "    \n",
    "# Now, initialize dictionary of women\n",
    "womenlist = su.parseFile(womenpref_file)\n",
    "women = dict()\n",
    "for person in womenlist:\n",
    "    women[person[0]] = su.Woman(person[0],person[1])"
   ]
  },
  {
   "cell_type": "code",
   "execution_count": 5,
   "metadata": {},
   "outputs": [
    {
     "name": "stdout",
     "output_type": "stream",
     "text": [
      "A proposes to W\n",
      "   W accepts the proposal\n",
      "Tentative Pairings are as follows:\n",
      "A  <- is paired with ->  W\n",
      "B  <- is paired with ->  None\n",
      "C  <- is paired with ->  None\n",
      "D  <- is paired with ->  None\n",
      "...\n",
      "B proposes to W\n",
      "   W accepts the proposal\n",
      "Tentative Pairings are as follows:\n",
      "A  <- is paired with ->  None\n",
      "B  <- is paired with ->  W\n",
      "C  <- is paired with ->  None\n",
      "D  <- is paired with ->  None\n",
      "...\n",
      "C proposes to X\n",
      "   X accepts the proposal\n",
      "Tentative Pairings are as follows:\n",
      "A  <- is paired with ->  None\n",
      "B  <- is paired with ->  W\n",
      "C  <- is paired with ->  X\n",
      "D  <- is paired with ->  None\n",
      "...\n",
      "D proposes to W\n",
      "   W accepts the proposal\n",
      "Tentative Pairings are as follows:\n",
      "A  <- is paired with ->  None\n",
      "B  <- is paired with ->  None\n",
      "C  <- is paired with ->  X\n",
      "D  <- is paired with ->  W\n",
      "...\n",
      "A proposes to X\n",
      "   X accepts the proposal\n",
      "Tentative Pairings are as follows:\n",
      "A  <- is paired with ->  X\n",
      "B  <- is paired with ->  None\n",
      "C  <- is paired with ->  None\n",
      "D  <- is paired with ->  W\n",
      "...\n",
      "B proposes to Y\n",
      "   Y accepts the proposal\n",
      "Tentative Pairings are as follows:\n",
      "A  <- is paired with ->  X\n",
      "B  <- is paired with ->  Y\n",
      "C  <- is paired with ->  None\n",
      "D  <- is paired with ->  W\n",
      "...\n",
      "C proposes to W\n",
      "   W rejects the proposal\n",
      "Tentative Pairings are as follows:\n",
      "A  <- is paired with ->  X\n",
      "B  <- is paired with ->  Y\n",
      "C  <- is paired with ->  None\n",
      "D  <- is paired with ->  W\n",
      "...\n",
      "C proposes to Y\n",
      "   Y rejects the proposal\n",
      "Tentative Pairings are as follows:\n",
      "A  <- is paired with ->  X\n",
      "B  <- is paired with ->  Y\n",
      "C  <- is paired with ->  None\n",
      "D  <- is paired with ->  W\n",
      "...\n",
      "C proposes to Z\n",
      "   Z accepts the proposal\n",
      "Tentative Pairings are as follows:\n",
      "A  <- is paired with ->  X\n",
      "B  <- is paired with ->  Y\n",
      "C  <- is paired with ->  Z\n",
      "D  <- is paired with ->  W\n",
      "...\n",
      "Final Pairings are as follows:\n",
      "A  <- is paired with ->  X\n",
      "B  <- is paired with ->  Y\n",
      "C  <- is paired with ->  Z\n",
      "D  <- is paired with ->  W\n"
     ]
    }
   ],
   "source": [
    "# Now do the matching\n",
    "verbose = True\n",
    "su.matching = su.performMatching(men, women, verbose)"
   ]
  },
  {
   "cell_type": "code",
   "execution_count": null,
   "metadata": {},
   "outputs": [],
   "source": []
  }
 ],
 "metadata": {
  "kernelspec": {
   "display_name": "Python 3",
   "language": "python",
   "name": "python3"
  },
  "language_info": {
   "codemirror_mode": {
    "name": "ipython",
    "version": 3
   },
   "file_extension": ".py",
   "mimetype": "text/x-python",
   "name": "python",
   "nbconvert_exporter": "python",
   "pygments_lexer": "ipython3",
   "version": "3.8.3"
  }
 },
 "nbformat": 4,
 "nbformat_minor": 4
}
