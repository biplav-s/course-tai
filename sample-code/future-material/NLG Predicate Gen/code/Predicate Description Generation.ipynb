{
 "cells": [
  {
   "cell_type": "code",
   "execution_count": 1,
   "metadata": {},
   "outputs": [],
   "source": [
    "# Initial implementation by Biplav Srivastava from an old code \n",
    "import json"
   ]
  },
  {
   "cell_type": "code",
   "execution_count": 2,
   "metadata": {},
   "outputs": [],
   "source": [
    "datadir = '../data/'\n",
    "filename = datadir + 'template.json'"
   ]
  },
  {
   "cell_type": "code",
   "execution_count": 3,
   "metadata": {},
   "outputs": [],
   "source": [
    "# Opening JSON file\n",
    "f = open(filename)\n",
    " \n",
    "# returns JSON object as\n",
    "# a dictionary\n",
    "preds = json.load(f)\n",
    " \n",
    "# Closing file\n",
    "f.close()"
   ]
  },
  {
   "cell_type": "code",
   "execution_count": 4,
   "metadata": {},
   "outputs": [
    {
     "name": "stdout",
     "output_type": "stream",
     "text": [
      "{'name': 'on', 'numargs': 2, 'description': 'Block $1 is on Block $2'}\n",
      "{'name': 'arm-empty', 'numargs': 1, 'description': 'Arm $1 is empty'}\n"
     ]
    }
   ],
   "source": [
    " # Iterating through the json list\n",
    "for i in preds['predicates']:\n",
    "    print(i)\n",
    "preds_list = preds['predicates']"
   ]
  },
  {
   "cell_type": "code",
   "execution_count": 7,
   "metadata": {},
   "outputs": [],
   "source": [
    "# Expand with predicates\n",
    "def generate_description(data, apred):\n",
    "    apred_name = apred[0]\n",
    "    for pred in data:\n",
    "\n",
    "        if (apred_name == pred['name']):\n",
    "            apred_numargs = pred['numargs']\n",
    "            apred_descp = pred['description']\n",
    "            text = apred_descp\n",
    "            for a in range(apred_numargs):\n",
    "                text = text.replace('$'+str(a+1), apred[a+1])\n",
    "            \n",
    "            break\n",
    "            \n",
    "    return text\n",
    "            \n",
    "    "
   ]
  },
  {
   "cell_type": "code",
   "execution_count": 8,
   "metadata": {},
   "outputs": [],
   "source": [
    "mypred = ['on', 'A', 'B']"
   ]
  },
  {
   "cell_type": "code",
   "execution_count": 9,
   "metadata": {},
   "outputs": [
    {
     "name": "stdout",
     "output_type": "stream",
     "text": [
      "Block A is on Block B\n"
     ]
    }
   ],
   "source": [
    "t = generate_description(preds_list, mypred)\n",
    "print (t)"
   ]
  },
  {
   "cell_type": "code",
   "execution_count": 10,
   "metadata": {},
   "outputs": [],
   "source": [
    "mypred = ['arm-empty', 'C']"
   ]
  },
  {
   "cell_type": "code",
   "execution_count": 11,
   "metadata": {},
   "outputs": [
    {
     "name": "stdout",
     "output_type": "stream",
     "text": [
      "Arm C is empty\n"
     ]
    }
   ],
   "source": [
    "t = generate_description(preds_list, mypred)\n",
    "print (t)"
   ]
  },
  {
   "cell_type": "code",
   "execution_count": null,
   "metadata": {},
   "outputs": [],
   "source": []
  },
  {
   "cell_type": "code",
   "execution_count": null,
   "metadata": {},
   "outputs": [],
   "source": []
  }
 ],
 "metadata": {
  "kernelspec": {
   "display_name": "Python 3",
   "language": "python",
   "name": "python3"
  },
  "language_info": {
   "codemirror_mode": {
    "name": "ipython",
    "version": 3
   },
   "file_extension": ".py",
   "mimetype": "text/x-python",
   "name": "python",
   "nbconvert_exporter": "python",
   "pygments_lexer": "ipython3",
   "version": "3.7.6"
  }
 },
 "nbformat": 4,
 "nbformat_minor": 2
}
